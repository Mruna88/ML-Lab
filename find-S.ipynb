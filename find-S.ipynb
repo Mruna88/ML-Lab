{
 "cells": [
  {
   "cell_type": "code",
   "execution_count": 5,
   "id": "ee2a23da",
   "metadata": {},
   "outputs": [],
   "source": [
    "import pandas as pd\n",
    "import numpy as np"
   ]
  },
  {
   "cell_type": "code",
   "execution_count": 9,
   "id": "38e98da0",
   "metadata": {},
   "outputs": [
    {
     "name": "stdout",
     "output_type": "stream",
     "text": [
      "     Sky AirTemp Humidity    Wind Water Forecast  EnjoySport\n",
      "0  Sunny    Warm   Normal  Strong  Warm     Same           1\n",
      "1  Sunny    Warm     High  Strong  Warm     Same           1\n",
      "2  Rainy    Cold     High  Strong  Warm   Change           0\n",
      "3  Sunny    Warm     High  Strong  Cool   Change           1\n"
     ]
    }
   ],
   "source": [
    "# reading from csv file\n",
    "\n",
    "data = pd.read_csv(\"../Datasets/enjoysport.csv\")\n",
    "print(data)"
   ]
  },
  {
   "cell_type": "code",
   "execution_count": 10,
   "id": "5ca6677b",
   "metadata": {},
   "outputs": [
    {
     "name": "stdout",
     "output_type": "stream",
     "text": [
      "[['Sunny' 'Warm' 'Normal' 'Strong' 'Warm' 'Same']\n",
      " ['Sunny' 'Warm' 'High' 'Strong' 'Warm' 'Same']\n",
      " ['Rainy' 'Cold' 'High' 'Strong' 'Warm' 'Change']\n",
      " ['Sunny' 'Warm' 'High' 'Strong' 'Cool' 'Change']]\n"
     ]
    }
   ],
   "source": [
    "# splitting all the data set variables\n",
    "\n",
    "a = np.array(data)[:,:-1]\n",
    "print(a)"
   ]
  },
  {
   "cell_type": "code",
   "execution_count": 11,
   "id": "fcdfd115",
   "metadata": {},
   "outputs": [
    {
     "name": "stdout",
     "output_type": "stream",
     "text": [
      "[1 1 0 1]\n"
     ]
    }
   ],
   "source": [
    "# splitting all the data set targets\n",
    "\n",
    "t = np.array(data)[:,-1]\n",
    "print(t)"
   ]
  },
  {
   "cell_type": "code",
   "execution_count": 12,
   "id": "deacbc79",
   "metadata": {},
   "outputs": [],
   "source": [
    "# find-S algorithm\n",
    "# a -> attributes / variables\n",
    "# t-> target / output\n",
    "\n",
    "def train(a,t):\n",
    "    # loop over the output array\n",
    "    for i,val in enumerate(t):\n",
    "        # copy first positive case as specific hypothesis\n",
    "        if val == 1:\n",
    "            specific_hypothesis = a[i].copy()\n",
    "            break\n",
    "    \n",
    "    # loop over the attributes array\n",
    "    for i,val in enumerate(a):\n",
    "        if t[i] == 1:\n",
    "            # all the fields that are not matching the o/p change them to \"?\"\n",
    "            \n",
    "            for j in range(len(specific_hypothesis)):\n",
    "                if val[j]!=specific_hypothesis[j]:\n",
    "                    specific_hypothesis[j]=\"?\"\n",
    "                else:\n",
    "                    pass\n",
    "                \n",
    "    return specific_hypothesis"
   ]
  },
  {
   "cell_type": "code",
   "execution_count": 13,
   "id": "446b8881",
   "metadata": {},
   "outputs": [
    {
     "name": "stdout",
     "output_type": "stream",
     "text": [
      "The final hypothesis is:  ['Sunny' 'Warm' '?' 'Strong' '?' '?']\n"
     ]
    }
   ],
   "source": [
    "print(\"The final hypothesis is: \",train(a,t))"
   ]
  },
  {
   "cell_type": "code",
   "execution_count": null,
   "id": "8dcfe0ec",
   "metadata": {},
   "outputs": [],
   "source": []
  }
 ],
 "metadata": {
  "kernelspec": {
   "display_name": "Python 3 (ipykernel)",
   "language": "python",
   "name": "python3"
  },
  "language_info": {
   "codemirror_mode": {
    "name": "ipython",
    "version": 3
   },
   "file_extension": ".py",
   "mimetype": "text/x-python",
   "name": "python",
   "nbconvert_exporter": "python",
   "pygments_lexer": "ipython3",
   "version": "3.11.2"
  }
 },
 "nbformat": 4,
 "nbformat_minor": 5
}

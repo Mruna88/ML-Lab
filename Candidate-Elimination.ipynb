{
 "cells": [
  {
   "cell_type": "code",
   "execution_count": 4,
   "id": "0c7c176c",
   "metadata": {},
   "outputs": [],
   "source": [
    "import pandas as pd\n",
    "import numpy as np"
   ]
  },
  {
   "cell_type": "code",
   "execution_count": 6,
   "id": "69c56d3d",
   "metadata": {},
   "outputs": [
    {
     "name": "stdout",
     "output_type": "stream",
     "text": [
      "     Sky AirTemp Humidity    Wind Water Forecast  EnjoySport\n",
      "0  Sunny    Warm   Normal  Strong  Warm     Same           1\n",
      "1  Sunny    Warm     High  Strong  Warm     Same           1\n",
      "2  Rainy    Cold     High  Strong  Warm   Change           0\n",
      "3  Sunny    Warm     High  Strong  Cool   Change           1\n"
     ]
    }
   ],
   "source": [
    "# reading from csv file\n",
    "\n",
    "data = pd.read_csv(\"../Datasets/enjoysport.csv\")\n",
    "print(data)"
   ]
  },
  {
   "cell_type": "code",
   "execution_count": 7,
   "id": "fc7b851a",
   "metadata": {},
   "outputs": [
    {
     "name": "stdout",
     "output_type": "stream",
     "text": [
      "[['Sunny' 'Warm' 'Normal' 'Strong' 'Warm' 'Same']\n",
      " ['Sunny' 'Warm' 'High' 'Strong' 'Warm' 'Same']\n",
      " ['Rainy' 'Cold' 'High' 'Strong' 'Warm' 'Change']\n",
      " ['Sunny' 'Warm' 'High' 'Strong' 'Cool' 'Change']]\n"
     ]
    }
   ],
   "source": [
    "# splitting all the data set variables\n",
    "\n",
    "a = np.array(data)[:,:-1]\n",
    "print(a)"
   ]
  },
  {
   "cell_type": "code",
   "execution_count": 8,
   "id": "e0a351ac",
   "metadata": {},
   "outputs": [
    {
     "name": "stdout",
     "output_type": "stream",
     "text": [
      "[1 1 0 1]\n"
     ]
    }
   ],
   "source": [
    "# splitting all the data set targets\n",
    "\n",
    "t = np.array(data)[:,-1]\n",
    "print(t)"
   ]
  },
  {
   "cell_type": "code",
   "execution_count": 34,
   "id": "d41f3a46",
   "metadata": {},
   "outputs": [],
   "source": [
    "# Candidate Elimination algorithm\n",
    "# a -> attributes / variables\n",
    "# t-> target / output\n",
    "\n",
    "def learn(a,t):\n",
    "    # consider first one as specific hypothesis\n",
    "    # initialise general hypothesis to all empty sets\n",
    "    specific_hypothesis = a[0].copy()\n",
    "    general_hypothesis = [[\"?\" for i in range(len(specific_hypothesis))] for i in range(len(specific_hypothesis))]\n",
    "    \n",
    "    for i,val in enumerate(a):\n",
    "        if t[i]==1:\n",
    "            for j in range(len(specific_hypothesis)):\n",
    "                if val[j]!=specific_hypothesis[j]:\n",
    "                    specific_hypothesis[j]='?'\n",
    "                    general_hypothesis[j][j]='?'\n",
    "                    \n",
    "        if t[i]==0:\n",
    "            for j in range(len(specific_hypothesis)):\n",
    "                if val[j]!=specific_hypothesis[j]:\n",
    "                    general_hypothesis[j][j]=specific_hypothesis[j]\n",
    "                else:\n",
    "                    general_hypothesis[j][j]='?'\n",
    "                    \n",
    "    empty_gh = general_hypothesis.count([\"?\" for i in range(len(specific_hypothesis))])\n",
    "    for i in range(empty_gh):\n",
    "        general_hypothesis.remove([\"?\" for i in range(len(specific_hypothesis))])\n",
    "        \n",
    "    return specific_hypothesis,general_hypothesis\n"
   ]
  },
  {
   "cell_type": "code",
   "execution_count": 35,
   "id": "2647a233",
   "metadata": {},
   "outputs": [
    {
     "name": "stdout",
     "output_type": "stream",
     "text": [
      "The specific hypothesis is :  ['Sunny' 'Warm' '?' 'Strong' '?' '?']\n",
      "The general hypothesis is :  [['Sunny', '?', '?', '?', '?', '?'], ['?', 'Warm', '?', '?', '?', '?']]\n"
     ]
    }
   ],
   "source": [
    "specific,general = learn(a,t)\n",
    "print(\"The specific hypothesis is : \",specific)\n",
    "print(\"The general hypothesis is : \",general)"
   ]
  },
  {
   "cell_type": "code",
   "execution_count": null,
   "id": "f27c4b86",
   "metadata": {},
   "outputs": [],
   "source": []
  }
 ],
 "metadata": {
  "kernelspec": {
   "display_name": "Python 3 (ipykernel)",
   "language": "python",
   "name": "python3"
  },
  "language_info": {
   "codemirror_mode": {
    "name": "ipython",
    "version": 3
   },
   "file_extension": ".py",
   "mimetype": "text/x-python",
   "name": "python",
   "nbconvert_exporter": "python",
   "pygments_lexer": "ipython3",
   "version": "3.11.2"
  }
 },
 "nbformat": 4,
 "nbformat_minor": 5
}

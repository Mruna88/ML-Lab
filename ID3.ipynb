{
 "cells": [
  {
   "cell_type": "code",
   "execution_count": 3,
   "id": "65c2bc18",
   "metadata": {},
   "outputs": [],
   "source": [
    "import pandas as pd\n",
    "import math\n",
    "import numpy as np"
   ]
  },
  {
   "cell_type": "code",
   "execution_count": 4,
   "id": "d806efbe",
   "metadata": {},
   "outputs": [
    {
     "name": "stdout",
     "output_type": "stream",
     "text": [
      "     outlook  temp humidity  windy play\n",
      "0      sunny   hot     high  False   no\n",
      "1      sunny   hot     high   True   no\n",
      "2   overcast   hot     high  False  yes\n",
      "3      rainy  mild     high  False  yes\n",
      "4      rainy  cool   normal  False  yes\n",
      "5      rainy  cool   normal   True   no\n",
      "6   overcast  cool   normal   True  yes\n",
      "7      sunny  mild     high  False   no\n",
      "8      sunny  cool   normal  False  yes\n",
      "9      rainy  mild   normal  False  yes\n",
      "10     sunny  mild   normal   True  yes\n",
      "11  overcast  mild     high   True  yes\n",
      "12  overcast   hot   normal  False  yes\n",
      "13     rainy  mild     high   True   no\n",
      "['outlook', 'temp', 'humidity', 'windy']\n"
     ]
    }
   ],
   "source": [
    "# reading from csv file\n",
    "\n",
    "data = pd.read_csv(\"../Datasets/playtennis.csv\")\n",
    "print(data)\n",
    "\n",
    "features = [feat for feat in data]\n",
    "features.remove(\"play\")\n",
    "print(features)"
   ]
  },
  {
   "cell_type": "code",
   "execution_count": 5,
   "id": "277f39d3",
   "metadata": {},
   "outputs": [],
   "source": [
    "class Node:\n",
    "    def __init__(self):\n",
    "        self.children = []\n",
    "        self.value = \"\" \n",
    "        self.isLeaf = False\n",
    "        self.pred = \"\" "
   ]
  },
  {
   "cell_type": "code",
   "execution_count": 6,
   "id": "af13deac",
   "metadata": {},
   "outputs": [],
   "source": [
    "def entropy(examples):\n",
    "    pos = 0.0\n",
    "    neg = 0.0\n",
    "    for _, row in examples.iterrows():\n",
    "        if row[\"play\"] == \"yes\":\n",
    "            pos += 1\n",
    "        else:\n",
    "            neg += 1\n",
    "    if pos == 0.0 or neg == 0.0:\n",
    "        return 0.0\n",
    "    else:\n",
    "        p = pos / (pos + neg)\n",
    "        n = neg / (pos + neg)\n",
    "    return -(p * math.log(p, 2) + n * math.log(n, 2))"
   ]
  },
  {
   "cell_type": "code",
   "execution_count": 7,
   "id": "ea70824b",
   "metadata": {},
   "outputs": [],
   "source": [
    "def info_gain(examples, attr):\n",
    "    uniq = np.unique(examples[attr])\n",
    "    #print (\"\\n\",uniq)\n",
    "    gain = entropy(examples)\n",
    "    #print (\"\\n\",gain)\n",
    "    for u in uniq:\n",
    "        subdata = examples[examples[attr] == u]\n",
    "        #print (\"\\n\",subdata)\n",
    "        sub_e = entropy(subdata)\n",
    "        gain -= (float(len(subdata)) / float(len(examples))) * sub_e\n",
    "        #print (\"\\n\",gain)\n",
    "    return gain"
   ]
  },
  {
   "cell_type": "code",
   "execution_count": 8,
   "id": "55b95c5f",
   "metadata": {},
   "outputs": [],
   "source": [
    "def ID3(examples, attrs):\n",
    "    root = Node()\n",
    "\n",
    "    max_gain = 0\n",
    "    max_feat = \"\"\n",
    "    for feature in attrs:\n",
    "    #print (\"\\n\",examples)\n",
    "        gain = info_gain(examples, feature)\n",
    "        if gain > max_gain:\n",
    "            max_gain = gain\n",
    "            max_feat = feature\n",
    "    root.value = max_feat\n",
    "    #print (\"\\nMax feature attr\",max_feat)\n",
    "    uniq = np.unique(examples[max_feat])\n",
    "    #print (\"\\n\",uniq)\n",
    "    for u in uniq:\n",
    "        #print (\"\\n\",u)\n",
    "        subdata = examples[examples[max_feat] == u]\n",
    "        #print (\"\\n\",subdata)\n",
    "        if entropy(subdata) == 0.0:\n",
    "            newNode = Node()\n",
    "            newNode.isLeaf = True\n",
    "            newNode.value = u\n",
    "            newNode.pred = np.unique(subdata[\"play\"])\n",
    "            root.children.append(newNode)\n",
    "        else:\n",
    "            dummyNode = Node()\n",
    "            dummyNode.value = u\n",
    "            new_attrs = attrs.copy()\n",
    "            new_attrs.remove(max_feat)\n",
    "            child = ID3(subdata, new_attrs)\n",
    "            dummyNode.children.append(child)\n",
    "            root.children.append(dummyNode)\n",
    "\n",
    "    return root"
   ]
  },
  {
   "cell_type": "code",
   "execution_count": 9,
   "id": "a3107f89",
   "metadata": {},
   "outputs": [],
   "source": [
    " def printTree(root:Node, depth=0):\n",
    "    for i in range(depth):\n",
    "        print(\"\\t\", end=\"\")\n",
    "    print(root.value, end=\"\")\n",
    "    if root.isLeaf:\n",
    "        print(\" -> \", root.pred)\n",
    "    print()\n",
    "    for child in root.children:\n",
    "        printTree(child, depth + 1)"
   ]
  },
  {
   "cell_type": "code",
   "execution_count": 10,
   "id": "fbe1431e",
   "metadata": {},
   "outputs": [],
   "source": [
    "def classify(root, new):\n",
    "    for child in root.children:\n",
    "        if child.value == new[root.value]:\n",
    "            if child.isLeaf:\n",
    "                print (\"Predicted Label for new example\", new,\" is:\", child.pred)\n",
    "                exit\n",
    "            else:\n",
    "                classify (child.children[0], new)"
   ]
  },
  {
   "cell_type": "code",
   "execution_count": 11,
   "id": "5e0aa29d",
   "metadata": {},
   "outputs": [
    {
     "name": "stdout",
     "output_type": "stream",
     "text": [
      "Decision Tree is:\n",
      "outlook\n",
      "\tovercast ->  ['yes']\n",
      "\n",
      "\trainy\n",
      "\t\twindy\n",
      "\t\t\tFalse ->  ['yes']\n",
      "\n",
      "\t\t\tTrue ->  ['no']\n",
      "\n",
      "\tsunny\n",
      "\t\thumidity\n",
      "\t\t\thigh ->  ['no']\n",
      "\n",
      "\t\t\tnormal ->  ['yes']\n",
      "\n",
      "------------------\n",
      "Predicted Label for new example {'outlook': 'sunny', 'temperature': 'hot', 'humidity': 'normal', 'wind': 'strong'}  is: ['yes']\n"
     ]
    }
   ],
   "source": [
    "root = ID3(data, features)\n",
    "print(\"Decision Tree is:\")\n",
    "printTree(root)\n",
    "print (\"------------------\")\n",
    "\n",
    "new = {\"outlook\":\"sunny\", \"temperature\":\"hot\", \"humidity\":\"normal\", \"wind\":\"strong\"}\n",
    "classify (root, new)"
   ]
  },
  {
   "cell_type": "markdown",
   "id": "8a723d69",
   "metadata": {},
   "source": [
    "# With Package"
   ]
  },
  {
   "cell_type": "code",
   "execution_count": 119,
   "id": "b69bf2ae",
   "metadata": {},
   "outputs": [],
   "source": [
    "from sklearn import tree\n",
    "from sklearn.preprocessing import LabelEncoder\n",
    "from sklearn.tree import DecisionTreeClassifier"
   ]
  },
  {
   "cell_type": "code",
   "execution_count": 120,
   "id": "b54f970c",
   "metadata": {},
   "outputs": [
    {
     "name": "stdout",
     "output_type": "stream",
     "text": [
      "The first 5 values of data is \n",
      "     outlook  temp humidity  windy play\n",
      "0     sunny   hot     high  False   no\n",
      "1     sunny   hot     high   True   no\n",
      "2  overcast   hot     high  False  yes\n",
      "3     rainy  mild     high  False  yes\n",
      "4     rainy  cool   normal  False  yes\n"
     ]
    }
   ],
   "source": [
    "# Load data from CSV\n",
    "data = pd.read_csv(\"../Datasets/playtennis.csv\")\n",
    "print(\"The first 5 values of data is \\n\",data.head())"
   ]
  },
  {
   "cell_type": "code",
   "execution_count": 121,
   "id": "4db8ad24",
   "metadata": {},
   "outputs": [
    {
     "name": "stdout",
     "output_type": "stream",
     "text": [
      "\n",
      "The first 5 values of Train data is \n",
      "     outlook  temp humidity  windy\n",
      "0     sunny   hot     high  False\n",
      "1     sunny   hot     high   True\n",
      "2  overcast   hot     high  False\n",
      "3     rainy  mild     high  False\n",
      "4     rainy  cool   normal  False\n"
     ]
    }
   ],
   "source": [
    "# Obtain Train data and Train output\n",
    "X = data.iloc[:,:-1]\n",
    "print(\"\\nThe first 5 values of Train data is \\n\",X.head())"
   ]
  },
  {
   "cell_type": "code",
   "execution_count": 122,
   "id": "74b25b8c",
   "metadata": {},
   "outputs": [
    {
     "name": "stdout",
     "output_type": "stream",
     "text": [
      "\n",
      "The first 5 values of Train output is \n",
      " 0     no\n",
      "1     no\n",
      "2    yes\n",
      "3    yes\n",
      "4    yes\n",
      "Name: play, dtype: object\n"
     ]
    }
   ],
   "source": [
    "y = data.iloc[:,-1]\n",
    "print(\"\\nThe first 5 values of Train output is \\n\",y.head())"
   ]
  },
  {
   "cell_type": "code",
   "execution_count": 123,
   "id": "022b399d",
   "metadata": {},
   "outputs": [
    {
     "name": "stdout",
     "output_type": "stream",
     "text": [
      "\n",
      "Now the Train data is\n",
      "    outlook  temp  humidity  windy\n",
      "0        2     1         0      0\n",
      "1        2     1         0      1\n",
      "2        0     1         0      0\n",
      "3        1     2         0      0\n",
      "4        1     0         1      0\n"
     ]
    }
   ],
   "source": [
    "# Convert them in numbers\n",
    "le_outlook = LabelEncoder()\n",
    "X.outlook =  le_outlook.fit_transform(X.outlook)\n",
    "\n",
    "le_Temperature = LabelEncoder()\n",
    "X.temp =  le_Temperature.fit_transform(X.temp)\n",
    "\n",
    "le_Humidity = LabelEncoder()\n",
    "X.humidity =  le_Humidity.fit_transform(X.humidity)\n",
    "\n",
    "le_Windy = LabelEncoder()\n",
    "X.windy =  le_Windy.fit_transform(X.windy)\n",
    "print(\"\\nNow the Train data is\\n\",X.head())"
   ]
  },
  {
   "cell_type": "code",
   "execution_count": 124,
   "id": "52b4d006",
   "metadata": {},
   "outputs": [
    {
     "name": "stdout",
     "output_type": "stream",
     "text": [
      "\n",
      "Now the Train data is\n",
      " [0 0 1 1 1 0 1 0 1 1 1 1 1 0]\n"
     ]
    }
   ],
   "source": [
    "le_PlayTennis = LabelEncoder()\n",
    "y =  le_PlayTennis.fit_transform(y)\n",
    "print(\"\\nNow the Train data is\\n\",y)"
   ]
  },
  {
   "cell_type": "code",
   "execution_count": 125,
   "id": "26da75fd",
   "metadata": {},
   "outputs": [
    {
     "data": {
      "text/html": [
       "<style>#sk-container-id-6 {color: black;background-color: white;}#sk-container-id-6 pre{padding: 0;}#sk-container-id-6 div.sk-toggleable {background-color: white;}#sk-container-id-6 label.sk-toggleable__label {cursor: pointer;display: block;width: 100%;margin-bottom: 0;padding: 0.3em;box-sizing: border-box;text-align: center;}#sk-container-id-6 label.sk-toggleable__label-arrow:before {content: \"▸\";float: left;margin-right: 0.25em;color: #696969;}#sk-container-id-6 label.sk-toggleable__label-arrow:hover:before {color: black;}#sk-container-id-6 div.sk-estimator:hover label.sk-toggleable__label-arrow:before {color: black;}#sk-container-id-6 div.sk-toggleable__content {max-height: 0;max-width: 0;overflow: hidden;text-align: left;background-color: #f0f8ff;}#sk-container-id-6 div.sk-toggleable__content pre {margin: 0.2em;color: black;border-radius: 0.25em;background-color: #f0f8ff;}#sk-container-id-6 input.sk-toggleable__control:checked~div.sk-toggleable__content {max-height: 200px;max-width: 100%;overflow: auto;}#sk-container-id-6 input.sk-toggleable__control:checked~label.sk-toggleable__label-arrow:before {content: \"▾\";}#sk-container-id-6 div.sk-estimator input.sk-toggleable__control:checked~label.sk-toggleable__label {background-color: #d4ebff;}#sk-container-id-6 div.sk-label input.sk-toggleable__control:checked~label.sk-toggleable__label {background-color: #d4ebff;}#sk-container-id-6 input.sk-hidden--visually {border: 0;clip: rect(1px 1px 1px 1px);clip: rect(1px, 1px, 1px, 1px);height: 1px;margin: -1px;overflow: hidden;padding: 0;position: absolute;width: 1px;}#sk-container-id-6 div.sk-estimator {font-family: monospace;background-color: #f0f8ff;border: 1px dotted black;border-radius: 0.25em;box-sizing: border-box;margin-bottom: 0.5em;}#sk-container-id-6 div.sk-estimator:hover {background-color: #d4ebff;}#sk-container-id-6 div.sk-parallel-item::after {content: \"\";width: 100%;border-bottom: 1px solid gray;flex-grow: 1;}#sk-container-id-6 div.sk-label:hover label.sk-toggleable__label {background-color: #d4ebff;}#sk-container-id-6 div.sk-serial::before {content: \"\";position: absolute;border-left: 1px solid gray;box-sizing: border-box;top: 0;bottom: 0;left: 50%;z-index: 0;}#sk-container-id-6 div.sk-serial {display: flex;flex-direction: column;align-items: center;background-color: white;padding-right: 0.2em;padding-left: 0.2em;position: relative;}#sk-container-id-6 div.sk-item {position: relative;z-index: 1;}#sk-container-id-6 div.sk-parallel {display: flex;align-items: stretch;justify-content: center;background-color: white;position: relative;}#sk-container-id-6 div.sk-item::before, #sk-container-id-6 div.sk-parallel-item::before {content: \"\";position: absolute;border-left: 1px solid gray;box-sizing: border-box;top: 0;bottom: 0;left: 50%;z-index: -1;}#sk-container-id-6 div.sk-parallel-item {display: flex;flex-direction: column;z-index: 1;position: relative;background-color: white;}#sk-container-id-6 div.sk-parallel-item:first-child::after {align-self: flex-end;width: 50%;}#sk-container-id-6 div.sk-parallel-item:last-child::after {align-self: flex-start;width: 50%;}#sk-container-id-6 div.sk-parallel-item:only-child::after {width: 0;}#sk-container-id-6 div.sk-dashed-wrapped {border: 1px dashed gray;margin: 0 0.4em 0.5em 0.4em;box-sizing: border-box;padding-bottom: 0.4em;background-color: white;}#sk-container-id-6 div.sk-label label {font-family: monospace;font-weight: bold;display: inline-block;line-height: 1.2em;}#sk-container-id-6 div.sk-label-container {text-align: center;}#sk-container-id-6 div.sk-container {/* jupyter's `normalize.less` sets `[hidden] { display: none; }` but bootstrap.min.css set `[hidden] { display: none !important; }` so we also need the `!important` here to be able to override the default hidden behavior on the sphinx rendered scikit-learn.org. See: https://github.com/scikit-learn/scikit-learn/issues/21755 */display: inline-block !important;position: relative;}#sk-container-id-6 div.sk-text-repr-fallback {display: none;}</style><div id=\"sk-container-id-6\" class=\"sk-top-container\"><div class=\"sk-text-repr-fallback\"><pre>DecisionTreeClassifier(criterion=&#x27;entropy&#x27;)</pre><b>In a Jupyter environment, please rerun this cell to show the HTML representation or trust the notebook. <br />On GitHub, the HTML representation is unable to render, please try loading this page with nbviewer.org.</b></div><div class=\"sk-container\" hidden><div class=\"sk-item\"><div class=\"sk-estimator sk-toggleable\"><input class=\"sk-toggleable__control sk-hidden--visually\" id=\"sk-estimator-id-6\" type=\"checkbox\" checked><label for=\"sk-estimator-id-6\" class=\"sk-toggleable__label sk-toggleable__label-arrow\">DecisionTreeClassifier</label><div class=\"sk-toggleable__content\"><pre>DecisionTreeClassifier(criterion=&#x27;entropy&#x27;)</pre></div></div></div></div></div>"
      ],
      "text/plain": [
       "DecisionTreeClassifier(criterion='entropy')"
      ]
     },
     "execution_count": 125,
     "metadata": {},
     "output_type": "execute_result"
    }
   ],
   "source": [
    "## Train model\n",
    "classifier = DecisionTreeClassifier(criterion='entropy')\n",
    "classifier.fit(X,y)\n"
   ]
  },
  {
   "cell_type": "code",
   "execution_count": 127,
   "id": "1eb0bebc",
   "metadata": {},
   "outputs": [
    {
     "name": "stdout",
     "output_type": "stream",
     "text": [
      "[1]\n",
      "The prediction for ['sunny', 'hot', 'normal', 'False'] is ['yes']\n"
     ]
    },
    {
     "name": "stderr",
     "output_type": "stream",
     "text": [
      "C:\\Users\\srira\\AppData\\Local\\Programs\\Python\\Python311\\Lib\\site-packages\\sklearn\\base.py:439: UserWarning: X does not have valid feature names, but DecisionTreeClassifier was fitted with feature names\n",
      "  warnings.warn(\n"
     ]
    }
   ],
   "source": [
    "# Test model\n",
    "def labelEncoderForInput(list1):\n",
    "    list1[0] =  le_outlook.transform([list1[0]])[0]\n",
    "    list1[1] =  le_Temperature.transform([list1[1]])[0]\n",
    "    list1[2] =  le_Humidity.transform([list1[2]])[0]\n",
    "    list1[3] =  le_Windy.transform([list1[3]])[0]\n",
    "    return [list1]\n",
    "\n",
    "## predict for an input\n",
    "\n",
    "inp1=[\"sunny\",\"hot\",\"normal\",\"False\"]\n",
    "inp=inp1.copy()\n",
    "pred1 = labelEncoderForInput(inp1)\n",
    "\n",
    "y_pred = classifier.predict(pred1)\n",
    "print(y_pred)\n",
    "print(\"The prediction for {0} is {1}\".format(inp, le_PlayTennis.inverse_transform(y_pred)))"
   ]
  },
  {
   "cell_type": "code",
   "execution_count": null,
   "id": "c3ef40af",
   "metadata": {},
   "outputs": [],
   "source": []
  },
  {
   "cell_type": "code",
   "execution_count": null,
   "id": "23d8727e",
   "metadata": {},
   "outputs": [],
   "source": []
  }
 ],
 "metadata": {
  "kernelspec": {
   "display_name": "Python 3 (ipykernel)",
   "language": "python",
   "name": "python3"
  },
  "language_info": {
   "codemirror_mode": {
    "name": "ipython",
    "version": 3
   },
   "file_extension": ".py",
   "mimetype": "text/x-python",
   "name": "python",
   "nbconvert_exporter": "python",
   "pygments_lexer": "ipython3",
   "version": "3.11.2"
  }
 },
 "nbformat": 4,
 "nbformat_minor": 5
}

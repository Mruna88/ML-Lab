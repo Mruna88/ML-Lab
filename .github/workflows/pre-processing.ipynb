import numpy as np
import pandas as pd
import matplotlib as plt
data = pd.read_csv("../Datasets/Titanic.csv")
# view some rows
# head -> top 5
data.head()
# tail -> last 5
data.tail()
# view cols and data types
data.info()
# rows * cols
data.shape
# check the summary statistics of the dataframe
data.describe()
# check the count of unique values in the target column
data['Survived'].value_counts()
# cols
data.columns
data.nunique()
data['Survived'].unique()
data['Pclass'].unique()
data['Sex'].unique()
data.isnull().sum()
data['Survived'].unique()
data['Pclass'].unique()
data['Sex'].unique()
data.isnull().sum()

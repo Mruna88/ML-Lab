{
 "cells": [
  {
   "cell_type": "code",
   "execution_count": 1,
   "id": "b5b3e554",
   "metadata": {},
   "outputs": [],
   "source": [
    "import numpy as np"
   ]
  },
  {
   "cell_type": "code",
   "execution_count": 2,
   "id": "d9362aeb",
   "metadata": {},
   "outputs": [],
   "source": [
    "# Define the sigmoid activation function\n",
    "def sigmoid(x):\n",
    "    return 1 / (1 + np.exp(-x))"
   ]
  },
  {
   "cell_type": "code",
   "execution_count": 3,
   "id": "97b4c228",
   "metadata": {},
   "outputs": [],
   "source": [
    "# Define the derivative of the sigmoid function\n",
    "def sigmoid_derivative(x):\n",
    "    return x * (1 - x)"
   ]
  },
  {
   "cell_type": "code",
   "execution_count": 4,
   "id": "5aa6b2bb",
   "metadata": {},
   "outputs": [],
   "source": [
    "# Define the neural network class\n",
    "class NeuralNetwork:\n",
    "    def __init__(self, inputs, hidden, outputs):\n",
    "        # Initialize the weights randomly with mean 0 and standard deviation 1\n",
    "        self.weights_input = np.random.normal(0, 1, (inputs, hidden))\n",
    "        self.weights_output = np.random.normal(0, 1, (hidden, outputs))\n",
    "\n",
    "    def forward(self, X):\n",
    "        # Calculate the dot product of the input and the weights of the first layer\n",
    "        self.hidden_layer = sigmoid(np.dot(X, self.weights_input))\n",
    "\n",
    "        # Calculate the dot product of the hidden layer and the weights of the second layer\n",
    "        self.output_layer = sigmoid(np.dot(self.hidden_layer, self.weights_output))\n",
    "        \n",
    "        return self.output_layer\n",
    "\n",
    "    def backward(self, X, y, output):\n",
    "        # Calculate the error between the predicted output and the expected output\n",
    "        error = y - output\n",
    "\n",
    "        # Calculate the derivative of the error with respect to the output\n",
    "        d_output = error * sigmoid_derivative(output)\n",
    "\n",
    "        # Calculate the derivative of the error with respect to the hidden layer\n",
    "        d_hidden = np.dot(d_output, self.weights_output.T) * sigmoid_derivative(self.hidden_layer)\n",
    "\n",
    "        # Calculate the gradient of the weights of the second layer\n",
    "        grad_output = np.dot(self.hidden_layer.T, d_output)\n",
    "\n",
    "        # Calculate the gradient of the weights of the first layer\n",
    "        grad_input = np.dot(X.T, d_hidden)\n",
    "\n",
    "        # Update the weights of the network using the gradients and the learning rate\n",
    "        learning_rate = 0.1\n",
    "        self.weights_input += learning_rate * grad_input\n",
    "        self.weights_output += learning_rate * grad_output\n",
    "\n",
    "    def train(self, X, y):\n",
    "        output = self.forward(X)\n",
    "        self.backward(X, y, output)"
   ]
  },
  {
   "cell_type": "code",
   "execution_count": 5,
   "id": "00225218",
   "metadata": {},
   "outputs": [
    {
     "name": "stdout",
     "output_type": "stream",
     "text": [
      "[[0.01618526]\n",
      " [0.01263663]\n",
      " [0.97999463]\n",
      " [0.97910805]]\n"
     ]
    }
   ],
   "source": [
    "# Example usage\n",
    "X = np.array([[0,0,1],[0,1,1],[1,0,1],[1,1,1]])\n",
    "y = np.array([[0,0,1,1]]).T\n",
    "\n",
    "nn = NeuralNetwork(3, 4, 1)\n",
    "for i in range(10000):\n",
    "    nn.train(X, y)\n",
    "    \n",
    "print(nn.forward(X))"
   ]
  },
  {
   "cell_type": "code",
   "execution_count": null,
   "id": "4c61809e",
   "metadata": {},
   "outputs": [],
   "source": []
  }
 ],
 "metadata": {
  "kernelspec": {
   "display_name": "Python 3 (ipykernel)",
   "language": "python",
   "name": "python3"
  },
  "language_info": {
   "codemirror_mode": {
    "name": "ipython",
    "version": 3
   },
   "file_extension": ".py",
   "mimetype": "text/x-python",
   "name": "python",
   "nbconvert_exporter": "python",
   "pygments_lexer": "ipython3",
   "version": "3.11.2"
  }
 },
 "nbformat": 4,
 "nbformat_minor": 5
}

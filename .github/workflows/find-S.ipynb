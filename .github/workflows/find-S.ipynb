import pandas as pd
import numpy as np

# reading from csv file

data = pd.read_csv("../Datasets/enjoysport.csv")
print(data)
     Sky AirTemp Humidity    Wind Water Forecast  EnjoySport
0  Sunny    Warm   Normal  Strong  Warm     Same           1
1  Sunny    Warm     High  Strong  Warm     Same           1
2  Rainy    Cold     High  Strong  Warm   Change           0
3  Sunny    Warm     High  Strong  Cool   Change           1

# splitting all the data set variables

a = np.array(data)[:,:-1]
print(a)
[['Sunny' 'Warm' 'Normal' 'Strong' 'Warm' 'Same']
 ['Sunny' 'Warm' 'High' 'Strong' 'Warm' 'Same']
 ['Rainy' 'Cold' 'High' 'Strong' 'Warm' 'Change']
 ['Sunny' 'Warm' 'High' 'Strong' 'Cool' 'Change']]

# splitting all the data set targets

t = np.array(data)[:,-1]
print(t)
[1 1 0 1]

# find-S algorithm
# a -> attributes / variables
# t-> target / output

def train(a,t):
    # loop over the output array
    for i,val in enumerate(t):
        # copy first positive case as specific hypothesis
        if val == 1:
            specific_hypothesis = a[i].copy()
            break
    
    # loop over the attributes array
    for i,val in enumerate(a):
        if t[i] == 1:
            # all the fields that are not matching the o/p change them to "?"
            
            for j in range(len(specific_hypothesis)):
                if val[j]!=specific_hypothesis[j]:
                    specific_hypothesis[j]="?"
                else:
                    pass
                
    return specific_hypothesis

print("The final hypothesis is: ",train(a,t))
The final hypothesis is:  ['Sunny' 'Warm' '?' 'Strong' '?' '?']
